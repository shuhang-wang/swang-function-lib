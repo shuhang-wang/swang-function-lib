{
 "cells": [
  {
   "cell_type": "code",
   "execution_count": 2,
   "metadata": {},
   "outputs": [
    {
     "name": "stdout",
     "output_type": "stream",
     "text": [
      "Image format: TIFF\n",
      "Image size: (2048, 2048)\n",
      "Image mode: I;16\n",
      "TIFF page 0:\n",
      "TiffTag 254 NewSubfileType @8388618 LONG @8388626 = PAGE\n",
      "TiffTag 256 ImageWidth @8388630 SHORT @8388638 = 2048\n",
      "TiffTag 257 ImageLength @8388642 SHORT @8388650 = 2048\n",
      "TiffTag 258 BitsPerSample @8388654 SHORT @8388662 = 16\n",
      "TiffTag 259 Compression @8388666 SHORT @8388674 = NONE\n",
      "TiffTag 262 PhotometricInterpretation @8388678 SHORT @8388686 = MINISBLACK\n",
      "TiffTag 270 ImageDescription @8388690 ASCII[7263] @8388790 = <MetaData> <prop i\n",
      "TiffTag 273 StripOffsets @8388702 LONG[1024] @8396054 = (8, 8200, 16392, 24584,\n",
      "TiffTag 274 Orientation @8388714 SHORT @8388722 = TOPLEFT\n",
      "TiffTag 277 SamplesPerPixel @8388726 SHORT @8388734 = 1\n",
      "TiffTag 278 RowsPerStrip @8388738 SHORT @8388746 = 2\n",
      "TiffTag 279 StripByteCounts @8388750 LONG[1024] @8400150 = (8192, 8192, 8192, 8\n",
      "TiffTag 305 Software @8388762 ASCII[11] @8404246 = MetaSeries\n",
      "TiffTag 306 DateTime @8388774 ASCII[22] @8404258 = 20240717 23:32:34.074\n"
     ]
    }
   ],
   "source": [
    "tif_path = '/home/shuhangwang/Documents/Code/swang_lib/normalization/CELL-cass-003960/TimePoint_1/ZStep_1/031424-IXM1ChamberTest_B02_s1_w16BC86BA4-F192-4C53-BA90-FFCB3146D20A.tif'\n",
    "\n",
    "\n",
    "from PIL import Image\n",
    "import tifffile\n",
    "\n",
    "# # Open and read TIFF file using Pillow\n",
    "# file_path = 'path_to_your_file.tif'\n",
    "image = Image.open(tif_path)\n",
    "\n",
    "# Display basic TIFF image information\n",
    "print(f\"Image format: {image.format}\")\n",
    "print(f\"Image size: {image.size}\")\n",
    "print(f\"Image mode: {image.mode}\")\n",
    "\n",
    "# Read detailed TIFF metadata, including the header, using tifffile\n",
    "with tifffile.TiffFile(tif_path) as tif:\n",
    "    # Print the file header information\n",
    "    for page in tif.pages:\n",
    "        print(f\"TIFF page {page.index}:\")\n",
    "        print(page.tags)  # Prints the header (tags)\n"
   ]
  },
  {
   "cell_type": "code",
   "execution_count": 4,
   "metadata": {},
   "outputs": [
    {
     "data": {
      "text/plain": [
       "(2048, 2048)"
      ]
     },
     "execution_count": 4,
     "metadata": {},
     "output_type": "execute_result"
    }
   ],
   "source": [
    "image.size"
   ]
  }
 ],
 "metadata": {
  "kernelspec": {
   "display_name": "conf",
   "language": "python",
   "name": "python3"
  },
  "language_info": {
   "codemirror_mode": {
    "name": "ipython",
    "version": 3
   },
   "file_extension": ".py",
   "mimetype": "text/x-python",
   "name": "python",
   "nbconvert_exporter": "python",
   "pygments_lexer": "ipython3",
   "version": "3.8.10"
  }
 },
 "nbformat": 4,
 "nbformat_minor": 2
}
